{
 "cells": [
  {
   "cell_type": "code",
   "execution_count": 11,
   "metadata": {},
   "outputs": [
    {
     "name": "stdout",
     "output_type": "stream",
     "text": [
      "9.111650485436893\n"
     ]
    }
   ],
   "source": [
    "import  numpy as np\n",
    "from typing import Union\n",
    "class LinearReg:\n",
    "    def __init__(self, x_arr:list, y_arr:list , slope:int=None , y_intercept:int = None) -> None:\n",
    "        self.slope = slope\n",
    "        self.y_intercept = y_intercept\n",
    "        self.x_arr = x_arr\n",
    "        self.y_arr = y_arr\n",
    "        self.x_mean = sum(x_arr) / len(self.x_arr)\n",
    "        self.y_mean = sum(y_arr) / len(self.y_arr)\n",
    "        self.ols_numerator:int = None\n",
    "        self.ols_denominator:int = None\n",
    "        \n",
    "    def center_data(self, arr:list) -> list:\n",
    "        centered_datapoint_arr = []\n",
    "        for num in arr:\n",
    "            centered_data_point = num - self.x_mean\n",
    "            centered_datapoint_arr.append(centered_data_point)\n",
    "\n",
    "        return centered_datapoint_arr\n",
    "\n",
    "    def get_slope(self) -> float:\n",
    "        self.ols_numerator = np.sum(np.array(self.center_data(self.x_arr)) * np.array(self.center_data(self.y_arr)))\n",
    "     \n",
    "        self.ols_denominator = np.sum(np.array(self.center_data(self.x_arr))**2)\n",
    " \n",
    "        slope = self.ols_numerator/self.ols_denominator\n",
    "        self.slope = slope\n",
    "        return slope\n",
    "    \n",
    "    def get_intercept(self) -> float:\n",
    "     \n",
    "        y_intercept = self.y_mean - (self.slope*self.x_mean)\n",
    "        self.y_intercept = y_intercept\n",
    "        return self.y_intercept\n",
    "    \n",
    "    def predict(self, independent_var:list) -> Union[int,list]:\n",
    "        target = (self.slope*independent_var) + self.y_intercept\n",
    "     \n",
    "        return target\n",
    "\n",
    "\n",
    "#18 20\n",
    "linReg = LinearReg([7, 8, 10, 12, 15], [9, 10, 12, 13, 16])\n",
    "linReg.get_slope()\n",
    "linReg.get_intercept()\n",
    "print(linReg.predict(7))\n"
   ]
  },
  {
   "cell_type": "markdown",
   "metadata": {},
   "source": [
    "read and Access dataset."
   ]
  },
  {
   "cell_type": "code",
   "execution_count": 3,
   "metadata": {},
   "outputs": [
    {
     "name": "stdout",
     "output_type": "stream",
     "text": [
      "       income\n",
      "487  4.243873\n",
      "73   2.864664\n",
      "231  4.223554\n",
      "175  2.274523\n",
      "237  2.210696\n",
      "..        ...\n",
      "247  5.964058\n",
      "383  4.851314\n",
      "19   1.994275\n",
      "321  4.800344\n",
      "331  6.250302\n",
      "\n",
      "[100 rows x 1 columns] 487    4.754168\n",
      "73     4.159609\n",
      "231    2.295700\n",
      "175    2.311554\n",
      "237    2.861274\n",
      "         ...   \n",
      "247    3.427723\n",
      "383    3.835578\n",
      "19     2.584729\n",
      "321    2.842868\n",
      "331    4.939259\n",
      "Name: happiness, Length: 100, dtype: float64\n"
     ]
    }
   ],
   "source": [
    "import pandas as pd\n",
    "from sklearn.model_selection import train_test_split\n",
    "\n",
    "\n",
    "database_path = 'C:/Users/doluw/OneDrive/Documents/income.data.csv'\n",
    "\n",
    "#Specifying columns to work with\n",
    "use_columns = ['income', 'happiness']\n",
    "#load dataset\n",
    "df = pd.read_csv(database_path, usecols=use_columns)\n",
    "\n",
    "X_df = df.drop('happiness', axis=1) #only include independent variable\n",
    "y_df = df['happiness'] # Target variables\n",
    "x_train, x_test, y_train, y_test = train_test_split(X_df, y_df, test_size=0.2, random_state=42)\n",
    "print( x_test, y_test)\n"
   ]
  },
  {
   "cell_type": "markdown",
   "metadata": {},
   "source": [
    "Train using Linear_regression algorithm, and try to perform prediction with it."
   ]
  },
  {
   "cell_type": "code",
   "execution_count": 4,
   "metadata": {},
   "outputs": [
    {
     "name": "stdout",
     "output_type": "stream",
     "text": [
      "[[3.21752987]\n",
      " [2.21792257]\n",
      " [3.20280332]\n",
      " [1.79020704]\n",
      " [1.74394749]\n",
      " [2.39018719]\n",
      " [4.44664262]\n",
      " [4.86010664]\n",
      " [1.89050708]\n",
      " [3.50456863]\n",
      " [4.09833273]\n",
      " [2.4318678 ]\n",
      " [2.85594355]\n",
      " [3.54519132]\n",
      " [2.78796716]\n",
      " [1.80768864]\n",
      " [2.52124048]\n",
      " [5.16673969]\n",
      " [2.45094439]\n",
      " [3.996441  ]\n",
      " [1.83486036]\n",
      " [2.72998006]\n",
      " [2.63135811]\n",
      " [1.23340488]\n",
      " [4.61112137]\n",
      " [1.72884986]\n",
      " [2.46409207]\n",
      " [5.3782968 ]\n",
      " [4.21884267]\n",
      " [4.12789401]\n",
      " [1.34529138]\n",
      " [3.72063824]\n",
      " [2.83545189]\n",
      " [3.71043375]\n",
      " [4.0008309 ]\n",
      " [4.01012804]\n",
      " [1.2713695 ]\n",
      " [2.47646914]\n",
      " [1.31859325]\n",
      " [2.24910091]\n",
      " [5.35598486]\n",
      " [4.42244764]\n",
      " [5.0893214 ]\n",
      " [4.83614181]\n",
      " [2.94122983]\n",
      " [2.15161714]\n",
      " [1.6263909 ]\n",
      " [3.16872379]\n",
      " [2.67722482]\n",
      " [1.46401227]\n",
      " [4.0291672 ]\n",
      " [2.98869745]\n",
      " [5.14038236]\n",
      " [3.7164133 ]\n",
      " [3.58847209]\n",
      " [3.3425148 ]\n",
      " [3.54804131]\n",
      " [3.94616611]\n",
      " [4.93059286]\n",
      " [3.81954393]\n",
      " [4.89818897]\n",
      " [1.55970378]\n",
      " [5.09603988]\n",
      " [2.34495858]\n",
      " [2.2134292 ]\n",
      " [5.38998089]\n",
      " [4.72238072]\n",
      " [3.7692388 ]\n",
      " [2.40771063]\n",
      " [5.32646295]\n",
      " [4.52828042]\n",
      " [3.42736682]\n",
      " [3.04261746]\n",
      " [3.07258943]\n",
      " [1.94085636]\n",
      " [3.12886027]\n",
      " [5.11336675]\n",
      " [5.38052427]\n",
      " [2.69307466]\n",
      " [4.2524758 ]\n",
      " [4.26288758]\n",
      " [1.6143018 ]\n",
      " [2.70763229]\n",
      " [3.93796482]\n",
      " [3.18066442]\n",
      " [1.73248554]\n",
      " [3.64552379]\n",
      " [4.26950719]\n",
      " [2.98446615]\n",
      " [2.04751707]\n",
      " [4.48640398]\n",
      " [3.56200774]\n",
      " [4.84109238]\n",
      " [5.16197444]\n",
      " [1.99650716]\n",
      " [4.46426615]\n",
      " [3.65778436]\n",
      " [1.58709201]\n",
      " [3.62084278]\n",
      " [4.67172729]]\n"
     ]
    }
   ],
   "source": [
    "linear_reg = LinearReg(x_train.values,y_train.values )\n",
    "linear_reg.get_slope()\n",
    "linear_reg.get_intercept()\n",
    "print(linear_reg.predict(x_test.values))"
   ]
  },
  {
   "cell_type": "code",
   "execution_count": 5,
   "metadata": {},
   "outputs": [
    {
     "name": "stdout",
     "output_type": "stream",
     "text": [
      "X_arr after mean: [-4.66666667 -3.66666667 -1.66666667  0.33333333  3.33333333  6.33333333], y_arr after subtracting mean [-4.33333333 -3.33333333 -1.33333333 -0.33333333  2.66666667  6.66666667]\n",
      "This is the nummerator: 85.66666666666666\n",
      "This is the denominator: 89.33333333333334\n",
      "Slope is :0.9589552238805968, y-intercept is: 2.145522388059705\n",
      "m,  0.9589552238805968 B,  2.145522388059705\n"
     ]
    }
   ],
   "source": [
    "def linear_regression(X, y):\n",
    "    x_mean = np.mean(X)\n",
    "    y_mean = np.mean(y)\n",
    "    print(f'X_arr after mean: {X- x_mean}, y_arr after subtracting mean {Y - y_mean}')\n",
    "    numerator = np.sum((X - x_mean) * (y - y_mean))\n",
    "    print(f'This is the nummerator: {numerator}')\n",
    "    denominator = np.sum((X - x_mean) ** 2)\n",
    "    print(f'This is the denominator: {denominator}')\n",
    "    m = numerator / denominator\n",
    "    b = y_mean - (m * x_mean)\n",
    "    print(f'Slope is :{m}, y-intercept is: {b}')\n",
    "    return m, b\n",
    "\n",
    "X = np.array([7, 8, 10, 12, 15, 18])\n",
    "Y = np.array([9, 10, 12, 13, 16, 20])\n",
    " \n",
    "# Training the model\n",
    "m, b = linear_regression(X, Y)\n",
    "print('m, ',m,'B, ', b)"
   ]
  },
  {
   "cell_type": "markdown",
   "metadata": {},
   "source": [
    "Implenting linear regression for multiple columns (Started Diving into Linear regression for multiple independent variables)"
   ]
  },
  {
   "cell_type": "code",
   "execution_count": 6,
   "metadata": {},
   "outputs": [
    {
     "name": "stdout",
     "output_type": "stream",
     "text": [
      "[11.66666667  3.5       ]\n"
     ]
    }
   ],
   "source": [
    "x_data = [[7, 2], [8, 3], [10, 1], [12, 5], [15, 4], [18, 6]] \n",
    "mean =  np.mean(x_data, axis=0)\n",
    "\n",
    "print(mean)"
   ]
  },
  {
   "cell_type": "code",
   "execution_count": 7,
   "metadata": {},
   "outputs": [
    {
     "name": "stdout",
     "output_type": "stream",
     "text": [
      "x is here [5.48813504 7.15189366 6.02763376 5.44883183 4.23654799 6.45894113\n",
      " 4.37587211 8.91773001 9.63662761 3.83441519 7.91725038 5.2889492\n",
      " 5.68044561 9.25596638 0.71036058 0.871293   0.20218397 8.32619846\n",
      " 7.78156751 8.70012148 9.78618342 7.99158564 4.61479362 7.80529176\n",
      " 1.18274426 6.39921021 1.43353287 9.44668917 5.21848322 4.1466194\n",
      " 2.64555612 7.74233689 4.56150332 5.68433949 0.187898   6.17635497\n",
      " 6.12095723 6.16933997 9.43748079 6.81820299 3.59507901 4.37031954\n",
      " 6.97631196 0.60225472 6.66766715 6.7063787  2.10382561 1.28926298\n",
      " 3.15428351 3.63710771]\n",
      "x is here [ 7.5637297  18.20533812 11.03596316 10.02151506  5.96750527 14.47286297\n",
      "  5.52394853 17.40997946 17.48232209  8.44263537 14.81289049  8.21663403\n",
      " 11.30452677 19.36859651  1.55375561  2.34752979 -0.86427624 15.92691458\n",
      " 14.21821412 16.68113664 17.94607428 12.53060608  9.58443953 14.80702165\n",
      " -0.89490818 13.72398494  1.05246902 18.99726913 11.89514756  8.55120462\n",
      "  7.56991361 13.01502215  9.92768993  9.9990588  -1.36579829 11.19501061\n",
      " 11.61880939 12.45101062 16.54466189 15.43805896  8.12148289  5.6681517\n",
      " 16.92912831  4.99628778 15.69289345 13.05290772  2.06614598  4.68742941\n",
      "  5.50221312  9.71910556]\n"
     ]
    }
   ],
   "source": [
    "import numpy as np\n",
    "import matplotlib.pyplot as plt\n",
    "\n",
    "# Generate sample data\n",
    "np.random.seed(0)\n",
    "x = np.random.rand(50) * 10  # Random x values\n",
    "y = 2 * x + np.random.randn(50) * 2  # Linear relationship with noise\n",
    "print('x is here',x)\n",
    "print('x is here',y)"
   ]
  },
  {
   "cell_type": "markdown",
   "metadata": {},
   "source": [
    "Original data without centering"
   ]
  },
  {
   "cell_type": "code",
   "execution_count": 8,
   "metadata": {},
   "outputs": [
    {
     "data": {
      "image/png": "[encoded data removed]",
      "text/plain": [
       "<Figure size 800x600 with 1 Axes>"
      ]
     },
     "metadata": {},
     "output_type": "display_data"
    }
   ],
   "source": [
    "# Plot original data\n",
    "plt.figure(figsize=(8, 6))\n",
    "plt.scatter(x, y, label='Original Data')\n",
    "\n",
    "# Fit a linear regression line\n",
    "coefficients = np.polyfit(x, y, 1)\n",
    "plt.plot(x, np.polyval(coefficients, x), color='red', label='Regression Line')\n",
    "\n",
    "plt.xlabel('X')\n",
    "plt.ylabel('Y')\n",
    "plt.title('Linear Regression without Centering')\n",
    "plt.legend()\n",
    "plt.grid(True)\n",
    "plt.show()"
   ]
  },
  {
   "cell_type": "markdown",
   "metadata": {},
   "source": [
    "Fit to center, and plot linear regression line"
   ]
  },
  {
   "cell_type": "code",
   "execution_count": 9,
   "metadata": {},
   "outputs": [
    {
     "data": {
      "image/png": "[encoded data removed]",
      "text/plain": [
       "<Figure size 800x600 with 1 Axes>"
      ]
     },
     "metadata": {},
     "output_type": "display_data"
    }
   ],
   "source": [
    "# Center the data\n",
    "x_centered = x - np.mean(x)\n",
    "y_centered = y - np.mean(y)\n",
    "\n",
    "# Plot centered data\n",
    "plt.figure(figsize=(8, 6))\n",
    "plt.scatter(x_centered, y_centered, label='Centered Data')\n",
    "\n",
    "# Fit a linear regression line to centered data\n",
    "coefficients_centered = np.polyfit(x_centered, y_centered, 1)\n",
    "plt.plot(x_centered, np.polyval(coefficients_centered, x_centered), color='red', label='Regression Line')\n",
    "\n",
    "plt.xlabel('X (Centered)')\n",
    "plt.ylabel('Y (Centered)')\n",
    "plt.title('Linear Regression with Centering')\n",
    "plt.legend()\n",
    "plt.grid(True)\n",
    "plt.show()"
   ]
  }
 ],
 "metadata": {
  "kernelspec": {
   "display_name": "venv",
   "language": "python",
   "name": "python3"
  },
  "language_info": {
   "codemirror_mode": {
    "name": "ipython",
    "version": 3
   },
   "file_extension": ".py",
   "mimetype": "text/x-python",
   "name": "python",
   "nbconvert_exporter": "python",
   "pygments_lexer": "ipython3",
   "version": "3.10.6"
  }
 },
 "nbformat": 4,
 "nbformat_minor": 2
}
